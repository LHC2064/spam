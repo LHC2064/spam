{
 "cells": [
  {
   "cell_type": "markdown",
   "metadata": {
    "id": "3PqJ9mPe9ySy"
   },
   "source": [
    "## 라이브러리 설치"
   ]
  },
  {
   "cell_type": "code",
   "execution_count": null,
   "metadata": {
    "colab": {
     "base_uri": "https://localhost:8080/"
    },
    "executionInfo": {
     "elapsed": 18200,
     "status": "ok",
     "timestamp": 1663821913737,
     "user": {
      "displayName": "이힘찬",
      "userId": "10220646054598307609"
     },
     "user_tz": -540
    },
    "id": "7KEKRmZ7f3Gq",
    "outputId": "07f3e2e1-d492-4a29-e245-ba821a9ab0f9"
   },
   "outputs": [
    {
     "name": "stdout",
     "output_type": "stream",
     "text": [
      "Mounted at /content/drive\n"
     ]
    }
   ],
   "source": [
    "#mount - 코랩 사용시\n",
    "from google.colab import drive\n",
    "drive.mount('/content/drive')"
   ]
  },
  {
   "cell_type": "code",
   "execution_count": null,
   "metadata": {
    "colab": {
     "base_uri": "https://localhost:8080/"
    },
    "executionInfo": {
     "elapsed": 319,
     "status": "ok",
     "timestamp": 1663821995812,
     "user": {
      "displayName": "이힘찬",
      "userId": "10220646054598307609"
     },
     "user_tz": -540
    },
    "id": "naQ0g29Aj8mG",
    "outputId": "1db26fab-4a2b-4f68-b501-8ba2d5dd4a41"
   },
   "outputs": [
    {
     "name": "stdout",
     "output_type": "stream",
     "text": [
      "/content/drive/MyDrive/Colab Notebooks/ifamily\n"
     ]
    }
   ],
   "source": [
    "cd /content/drive/MyDrive/Colab Notebooks/ifamily"
   ]
  },
  {
   "cell_type": "code",
   "execution_count": 1,
   "metadata": {
    "id": "sOrXmUXmzYEB"
   },
   "outputs": [],
   "source": [
    "import json\n",
    "import re\n",
    "import pickle\n",
    "import numpy as np\n",
    "import pandas as pd\n",
    "import joblib\n",
    "from sklearn.feature_extraction.text import TfidfVectorizer\n",
    "from sklearn.svm import OneClassSVM\n",
    "from sklearn.metrics import accuracy_score\n",
    "from sklearn.metrics import confusion_matrix \n",
    "from sklearn.metrics import classification_report"
   ]
  },
  {
   "cell_type": "code",
   "execution_count": 2,
   "metadata": {
    "id": "vCsLdr_9DpDt"
   },
   "outputs": [],
   "source": [
    "min_count = 2\n",
    "ngram_range = (1, 1)"
   ]
  },
  {
   "cell_type": "markdown",
   "metadata": {
    "id": "1bWJw2KBOjVH"
   },
   "source": [
    "## 테스트 데이터셋 로드\n",
    "- 아래 두 개 중 하나 골라서 로드\n",
    "- 첫 번째 파일은 label balanced data\n",
    "- 두 번째 파일은 label imbalanced data\n",
    "\n"
   ]
  },
  {
   "cell_type": "code",
   "execution_count": 3,
   "metadata": {
    "id": "plbY5nBNTr_w"
   },
   "outputs": [],
   "source": [
    "## label 1, -1 balanced\n",
    "balanced_test_data = pd.read_csv('test_data_b.csv', index_col=0)"
   ]
  },
  {
   "cell_type": "code",
   "execution_count": 4,
   "metadata": {
    "id": "pyjSIbxW7-i0"
   },
   "outputs": [],
   "source": [
    "## label 1, -1 imbalanced\n",
    "imbalanced_test_data = pd.read_csv('test_data_imb.csv', index_col=0)"
   ]
  },
  {
   "cell_type": "code",
   "execution_count": 5,
   "metadata": {
    "id": "d8HXITx_Hwzi"
   },
   "outputs": [],
   "source": [
    "# 자음,모음을 제외한 한글만 추출하는 함수\n",
    "def only_hangul(x):\n",
    "  x = x.replace('\\n', ' ')\n",
    "  hangul = re.compile('[^ 가-힣]+')\n",
    "  res = hangul.sub('', x)\n",
    "  return res"
   ]
  },
  {
   "cell_type": "code",
   "execution_count": 6,
   "metadata": {
    "id": "TfQF5NKoHrwj"
   },
   "outputs": [],
   "source": [
    "# 테스트 데이터셋 한글만 남기기\n",
    "balanced_test_data['text'] = balanced_test_data['text'].apply(only_hangul)\n",
    "imbalanced_test_data['text'] = imbalanced_test_data['text'].apply(only_hangul)"
   ]
  },
  {
   "cell_type": "code",
   "execution_count": 7,
   "metadata": {
    "id": "wQg1pQ6AuUPM"
   },
   "outputs": [],
   "source": [
    "# 데이터셋 샘플 추출\n",
    "balanced_test_data_sampled = balanced_test_data.sample(frac=0.05)\n",
    "imbalanced_test_data_sampled = imbalanced_test_data.sample(frac=0.05)"
   ]
  },
  {
   "cell_type": "markdown",
   "metadata": {
    "id": "sSs4t6j1PZed"
   },
   "source": [
    "#### 학습된 모델의 tfidvector 결과와 차원 동일하게 맞춰주기 위한 함수 추가"
   ]
  },
  {
   "cell_type": "code",
   "execution_count": 8,
   "metadata": {
    "id": "wYQ9w9kQJMkY"
   },
   "outputs": [],
   "source": [
    "# corpus= 리뷰 데이터 , min_count= 특정 단어가 나타나는 '문서(리뷰)의 수' , ngram_range = 단어 묶음 범위\n",
    "def get_test_emb_with_vocabfile(corpus, min_count, ngram_range):\n",
    "    new_vectorizer = TfidfVectorizer(min_df=min_count, ngram_range=ngram_range, vocabulary=pickle.load(open(\"vocab_final.pkl\", \"rb\")))\n",
    "    emb = new_vectorizer.fit_transform(corpus)\n",
    "    return emb"
   ]
  },
  {
   "cell_type": "code",
   "execution_count": 9,
   "metadata": {
    "id": "X7WXWGzCuqMN"
   },
   "outputs": [],
   "source": [
    "# sample 데이터셋 리뷰들을 embedding\n",
    "t_matrix_sampled_b = get_test_emb_with_vocabfile(balanced_test_data_sampled['text'], min_count, ngram_range) #balanced 데이터\n",
    "t_matrix_sampled_imb = get_test_emb_with_vocabfile(imbalanced_test_data_sampled['text'], min_count, ngram_range) #imbalanced 데이터"
   ]
  },
  {
   "cell_type": "markdown",
   "metadata": {
    "id": "OhYMwsOI9sno"
   },
   "source": [
    "## 학습 모델 로드"
   ]
  },
  {
   "cell_type": "code",
   "execution_count": 10,
   "metadata": {
    "id": "Vd6wTe2Y13Q_"
   },
   "outputs": [],
   "source": [
    "clf_loaded = joblib.load('ocsvm_model_final.joblib')"
   ]
  },
  {
   "cell_type": "markdown",
   "metadata": {
    "id": "SVx2RSE2Qs8l"
   },
   "source": [
    "## 모델 검증"
   ]
  },
  {
   "cell_type": "markdown",
   "metadata": {
    "id": "3I8vRHPZ8KMF"
   },
   "source": [
    "balanced 데이터"
   ]
  },
  {
   "cell_type": "code",
   "execution_count": 12,
   "metadata": {
    "colab": {
     "base_uri": "https://localhost:8080/",
     "height": 371
    },
    "executionInfo": {
     "elapsed": 380,
     "status": "ok",
     "timestamp": 1663822069252,
     "user": {
      "displayName": "이힘찬",
      "userId": "10220646054598307609"
     },
     "user_tz": -540
    },
    "id": "HEJZ1RvYu1Ww",
    "outputId": "25313a5f-c8a6-476e-8256-2936b1c05166"
   },
   "outputs": [
    {
     "name": "stdout",
     "output_type": "stream",
     "text": [
      "Data shape: \n",
      "(250, 22735)\n",
      "Settings: \n",
      "min_count:  2\n",
      "ngram_range:  (1, 1)\n",
      "Confusion Matrix :\n",
      "[[113  12]\n",
      " [  5 120]]\n",
      "Accuracy Score for test: 93.20 %\n"
     ]
    },
    {
     "data": {
      "text/html": [
       "<div>\n",
       "<style scoped>\n",
       "    .dataframe tbody tr th:only-of-type {\n",
       "        vertical-align: middle;\n",
       "    }\n",
       "\n",
       "    .dataframe tbody tr th {\n",
       "        vertical-align: top;\n",
       "    }\n",
       "\n",
       "    .dataframe thead th {\n",
       "        text-align: right;\n",
       "    }\n",
       "</style>\n",
       "<table border=\"1\" class=\"dataframe\">\n",
       "  <thead>\n",
       "    <tr style=\"text-align: right;\">\n",
       "      <th></th>\n",
       "      <th>precision</th>\n",
       "      <th>recall</th>\n",
       "      <th>f1-score</th>\n",
       "      <th>support</th>\n",
       "    </tr>\n",
       "  </thead>\n",
       "  <tbody>\n",
       "    <tr>\n",
       "      <th>-1</th>\n",
       "      <td>0.957627</td>\n",
       "      <td>0.904</td>\n",
       "      <td>0.930041</td>\n",
       "      <td>125.000</td>\n",
       "    </tr>\n",
       "    <tr>\n",
       "      <th>1</th>\n",
       "      <td>0.909091</td>\n",
       "      <td>0.960</td>\n",
       "      <td>0.933852</td>\n",
       "      <td>125.000</td>\n",
       "    </tr>\n",
       "    <tr>\n",
       "      <th>accuracy</th>\n",
       "      <td>0.932000</td>\n",
       "      <td>0.932</td>\n",
       "      <td>0.932000</td>\n",
       "      <td>0.932</td>\n",
       "    </tr>\n",
       "    <tr>\n",
       "      <th>macro avg</th>\n",
       "      <td>0.933359</td>\n",
       "      <td>0.932</td>\n",
       "      <td>0.931947</td>\n",
       "      <td>250.000</td>\n",
       "    </tr>\n",
       "    <tr>\n",
       "      <th>weighted avg</th>\n",
       "      <td>0.933359</td>\n",
       "      <td>0.932</td>\n",
       "      <td>0.931947</td>\n",
       "      <td>250.000</td>\n",
       "    </tr>\n",
       "  </tbody>\n",
       "</table>\n",
       "</div>"
      ],
      "text/plain": [
       "              precision  recall  f1-score  support\n",
       "-1             0.957627   0.904  0.930041  125.000\n",
       "1              0.909091   0.960  0.933852  125.000\n",
       "accuracy       0.932000   0.932  0.932000    0.932\n",
       "macro avg      0.933359   0.932  0.931947  250.000\n",
       "weighted avg   0.933359   0.932  0.931947  250.000"
      ]
     },
     "execution_count": 12,
     "metadata": {},
     "output_type": "execute_result"
    }
   ],
   "source": [
    "# Accuracy 및 Confusion Matrix 확인\n",
    "print('Data shape: ')\n",
    "print(t_matrix_sampled_b.shape)\n",
    "print('Settings: ')\n",
    "print('min_count: ', min_count)\n",
    "print('ngram_range: ', ngram_range)\n",
    "y_pred_test = clf_loaded.predict(t_matrix_sampled_b) #sample데이터 예측 값\n",
    "results = confusion_matrix(balanced_test_data_sampled['label'], y_pred_test) \n",
    "print('Confusion Matrix :')\n",
    "print(results) \n",
    "print('Accuracy Score for test: {:.2f} %'.format(accuracy_score(balanced_test_data_sampled['label'], y_pred_test)*100)) \n",
    "report = classification_report(balanced_test_data_sampled['label'], y_pred_test, output_dict=True)\n",
    "pd.DataFrame(report).transpose()"
   ]
  },
  {
   "cell_type": "markdown",
   "metadata": {
    "id": "sHpqOsS58nMe"
   },
   "source": [
    "imbalanced 데이터"
   ]
  },
  {
   "cell_type": "code",
   "execution_count": 13,
   "metadata": {
    "colab": {
     "base_uri": "https://localhost:8080/",
     "height": 371
    },
    "executionInfo": {
     "elapsed": 337,
     "status": "ok",
     "timestamp": 1663822075961,
     "user": {
      "displayName": "이힘찬",
      "userId": "10220646054598307609"
     },
     "user_tz": -540
    },
    "id": "c3E6d-Sd7U9l",
    "outputId": "4684fe49-cbba-47de-9411-9a2e9affcce2"
   },
   "outputs": [
    {
     "name": "stdout",
     "output_type": "stream",
     "text": [
      "Data shape: \n",
      "(250, 22735)\n",
      "Settings: \n",
      "min_count:  2\n",
      "ngram_range:  (1, 1)\n",
      "Confusion Matrix :\n",
      "[[ 38   0]\n",
      " [ 15 197]]\n",
      "Accuracy Score for test: 94.00 %\n"
     ]
    },
    {
     "data": {
      "text/html": [
       "<div>\n",
       "<style scoped>\n",
       "    .dataframe tbody tr th:only-of-type {\n",
       "        vertical-align: middle;\n",
       "    }\n",
       "\n",
       "    .dataframe tbody tr th {\n",
       "        vertical-align: top;\n",
       "    }\n",
       "\n",
       "    .dataframe thead th {\n",
       "        text-align: right;\n",
       "    }\n",
       "</style>\n",
       "<table border=\"1\" class=\"dataframe\">\n",
       "  <thead>\n",
       "    <tr style=\"text-align: right;\">\n",
       "      <th></th>\n",
       "      <th>precision</th>\n",
       "      <th>recall</th>\n",
       "      <th>f1-score</th>\n",
       "      <th>support</th>\n",
       "    </tr>\n",
       "  </thead>\n",
       "  <tbody>\n",
       "    <tr>\n",
       "      <th>-1</th>\n",
       "      <td>0.716981</td>\n",
       "      <td>1.000000</td>\n",
       "      <td>0.835165</td>\n",
       "      <td>38.00</td>\n",
       "    </tr>\n",
       "    <tr>\n",
       "      <th>1</th>\n",
       "      <td>1.000000</td>\n",
       "      <td>0.929245</td>\n",
       "      <td>0.963325</td>\n",
       "      <td>212.00</td>\n",
       "    </tr>\n",
       "    <tr>\n",
       "      <th>accuracy</th>\n",
       "      <td>0.940000</td>\n",
       "      <td>0.940000</td>\n",
       "      <td>0.940000</td>\n",
       "      <td>0.94</td>\n",
       "    </tr>\n",
       "    <tr>\n",
       "      <th>macro avg</th>\n",
       "      <td>0.858491</td>\n",
       "      <td>0.964623</td>\n",
       "      <td>0.899245</td>\n",
       "      <td>250.00</td>\n",
       "    </tr>\n",
       "    <tr>\n",
       "      <th>weighted avg</th>\n",
       "      <td>0.956981</td>\n",
       "      <td>0.940000</td>\n",
       "      <td>0.943845</td>\n",
       "      <td>250.00</td>\n",
       "    </tr>\n",
       "  </tbody>\n",
       "</table>\n",
       "</div>"
      ],
      "text/plain": [
       "              precision    recall  f1-score  support\n",
       "-1             0.716981  1.000000  0.835165    38.00\n",
       "1              1.000000  0.929245  0.963325   212.00\n",
       "accuracy       0.940000  0.940000  0.940000     0.94\n",
       "macro avg      0.858491  0.964623  0.899245   250.00\n",
       "weighted avg   0.956981  0.940000  0.943845   250.00"
      ]
     },
     "execution_count": 13,
     "metadata": {},
     "output_type": "execute_result"
    }
   ],
   "source": [
    "# Accuracy 및 Confusion Matrix 확인\n",
    "print('Data shape: ')\n",
    "print(t_matrix_sampled_imb.shape)\n",
    "print('Settings: ')\n",
    "print('min_count: ', min_count)\n",
    "print('ngram_range: ', ngram_range)\n",
    "y_pred_test = clf_loaded.predict(t_matrix_sampled_imb) #sample데이터 예측 값\n",
    "results = confusion_matrix(imbalanced_test_data_sampled['label'], y_pred_test) \n",
    "print('Confusion Matrix :')\n",
    "print(results) \n",
    "print('Accuracy Score for test: {:.2f} %'.format(accuracy_score(imbalanced_test_data_sampled['label'], y_pred_test)*100)) \n",
    "report = classification_report(imbalanced_test_data_sampled['label'], y_pred_test, output_dict=True)\n",
    "pd.DataFrame(report).transpose()"
   ]
  },
  {
   "cell_type": "markdown",
   "metadata": {
    "id": "5Oppwya9_Ul8"
   },
   "source": [
    "balanced데이터와 imbalanced데이터 각각 20번 테스트"
   ]
  },
  {
   "cell_type": "code",
   "execution_count": 14,
   "metadata": {
    "colab": {
     "base_uri": "https://localhost:8080/"
    },
    "executionInfo": {
     "elapsed": 4779,
     "status": "ok",
     "timestamp": 1663822083362,
     "user": {
      "displayName": "이힘찬",
      "userId": "10220646054598307609"
     },
     "user_tz": -540
    },
    "id": "vh_tg1CIwtPd",
    "outputId": "3dd884f4-9d86-47eb-c1f6-6a825a47cbb6"
   },
   "outputs": [
    {
     "name": "stdout",
     "output_type": "stream",
     "text": [
      "1_Accuracy Score: 96.00 %\n",
      "2_Accuracy Score: 94.40 %\n",
      "3_Accuracy Score: 94.40 %\n",
      "4_Accuracy Score: 93.60 %\n",
      "5_Accuracy Score: 91.60 %\n",
      "6_Accuracy Score: 94.40 %\n",
      "7_Accuracy Score: 94.00 %\n",
      "8_Accuracy Score: 93.20 %\n",
      "9_Accuracy Score: 89.60 %\n",
      "10_Accuracy Score: 94.40 %\n",
      "11_Accuracy Score: 96.00 %\n",
      "12_Accuracy Score: 95.20 %\n",
      "13_Accuracy Score: 93.20 %\n",
      "14_Accuracy Score: 90.80 %\n",
      "15_Accuracy Score: 91.20 %\n",
      "16_Accuracy Score: 92.80 %\n",
      "17_Accuracy Score: 94.80 %\n",
      "18_Accuracy Score: 91.60 %\n",
      "19_Accuracy Score: 91.60 %\n",
      "20_Accuracy Score: 92.80 %\n",
      "===========Mean Of Accuracy===========: 93.28 %\n"
     ]
    }
   ],
   "source": [
    "## balance data Test_20번\n",
    "b_res = []\n",
    "\n",
    "for i in range(20):\n",
    "  balanced_test_data_sampled = balanced_test_data.sample(frac=0.05)\n",
    "  t_matrix_sampled = get_test_emb_with_vocabfile(balanced_test_data_sampled['text'], min_count, ngram_range)\n",
    "  y_pred_test = clf_loaded.predict(t_matrix_sampled)\n",
    "  acc = accuracy_score(balanced_test_data_sampled['label'], y_pred_test)*100\n",
    "  b_res.append(acc)\n",
    "  print(str(i+1)+'_Accuracy Score: {:.2f} %'.format(acc))\n",
    "\n",
    "print('===========Mean Of Accuracy===========: {:.2f} %'.format(sum(b_res)/len(b_res)))"
   ]
  },
  {
   "cell_type": "code",
   "execution_count": 15,
   "metadata": {
    "colab": {
     "base_uri": "https://localhost:8080/"
    },
    "executionInfo": {
     "elapsed": 5178,
     "status": "ok",
     "timestamp": 1663822091432,
     "user": {
      "displayName": "이힘찬",
      "userId": "10220646054598307609"
     },
     "user_tz": -540
    },
    "id": "PkZPigvMf_Er",
    "outputId": "0527061e-fc93-43e0-a679-6aeed6f4f86c"
   },
   "outputs": [
    {
     "name": "stdout",
     "output_type": "stream",
     "text": [
      "1_Accuracy Score: 94.40 %\n",
      "2_Accuracy Score: 95.20 %\n",
      "3_Accuracy Score: 96.80 %\n",
      "4_Accuracy Score: 96.00 %\n",
      "5_Accuracy Score: 96.00 %\n",
      "6_Accuracy Score: 97.20 %\n",
      "7_Accuracy Score: 94.00 %\n",
      "8_Accuracy Score: 95.20 %\n",
      "9_Accuracy Score: 92.40 %\n",
      "10_Accuracy Score: 96.40 %\n",
      "11_Accuracy Score: 94.80 %\n",
      "12_Accuracy Score: 95.60 %\n",
      "13_Accuracy Score: 93.20 %\n",
      "14_Accuracy Score: 95.20 %\n",
      "15_Accuracy Score: 96.40 %\n",
      "16_Accuracy Score: 96.40 %\n",
      "17_Accuracy Score: 90.80 %\n",
      "18_Accuracy Score: 93.60 %\n",
      "19_Accuracy Score: 98.00 %\n",
      "20_Accuracy Score: 94.40 %\n",
      "===========Mean Of Accuracy===========: 95.10 %\n"
     ]
    }
   ],
   "source": [
    "## imbalance Test\n",
    "imb_res = []\n",
    "\n",
    "for i in range(20):\n",
    "  imbalanced_test_data_sampled = imbalanced_test_data.sample(frac=0.05)\n",
    "  t_matrix_sampled = get_test_emb_with_vocabfile(imbalanced_test_data_sampled['text'], min_count, ngram_range)\n",
    "  y_pred_test = clf_loaded.predict(t_matrix_sampled)\n",
    "  acc = accuracy_score(imbalanced_test_data_sampled['label'], y_pred_test)*100\n",
    "  imb_res.append(acc)\n",
    "  print(str(i+1)+'_Accuracy Score: {:.2f} %'.format(acc))\n",
    "\n",
    "print('===========Mean Of Accuracy===========: {:.2f} %'.format(sum(imb_res)/len(imb_res)))"
   ]
  },
  {
   "cell_type": "code",
   "execution_count": 8,
   "metadata": {
    "id": "HsPDK_6EDDOa"
   },
   "outputs": [
    {
     "data": {
      "text/plain": [
       " 1    2687\n",
       "-1    2313\n",
       "Name: label, dtype: int64"
      ]
     },
     "execution_count": 8,
     "metadata": {},
     "output_type": "execute_result"
    }
   ],
   "source": [
    "balanced_test_data['label'].value_counts()"
   ]
  },
  {
   "cell_type": "code",
   "execution_count": 9,
   "metadata": {},
   "outputs": [
    {
     "data": {
      "text/plain": [
       " 1    4016\n",
       "-1     984\n",
       "Name: label, dtype: int64"
      ]
     },
     "execution_count": 9,
     "metadata": {},
     "output_type": "execute_result"
    }
   ],
   "source": [
    "imbalanced_test_data['label'].value_counts()"
   ]
  },
  {
   "cell_type": "code",
   "execution_count": null,
   "metadata": {},
   "outputs": [],
   "source": []
  }
 ],
 "metadata": {
  "colab": {
   "collapsed_sections": [],
   "machine_shape": "hm",
   "provenance": []
  },
  "kernelspec": {
   "display_name": "Python 3 (ipykernel)",
   "language": "python",
   "name": "python3"
  },
  "language_info": {
   "codemirror_mode": {
    "name": "ipython",
    "version": 3
   },
   "file_extension": ".py",
   "mimetype": "text/x-python",
   "name": "python",
   "nbconvert_exporter": "python",
   "pygments_lexer": "ipython3",
   "version": "3.7.13"
  },
  "toc": {
   "base_numbering": 1,
   "nav_menu": {},
   "number_sections": true,
   "sideBar": true,
   "skip_h1_title": false,
   "title_cell": "Table of Contents",
   "title_sidebar": "Contents",
   "toc_cell": false,
   "toc_position": {},
   "toc_section_display": true,
   "toc_window_display": false
  }
 },
 "nbformat": 4,
 "nbformat_minor": 1
}
